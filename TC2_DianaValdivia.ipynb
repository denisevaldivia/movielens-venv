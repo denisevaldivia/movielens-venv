{
 "cells": [
  {
   "cell_type": "markdown",
   "id": "dad54378-4ea6-4c44-b477-7af67e3d0a7f",
   "metadata": {},
   "source": [
    "# Cargar librerías"
   ]
  },
  {
   "cell_type": "code",
   "execution_count": 36,
   "id": "9d811edf-a530-4f35-85e8-6ba16bcfd588",
   "metadata": {},
   "outputs": [],
   "source": [
    "import pandas as pd \n",
    "\n",
    "movies = pd.read_csv(r'data\\movies.csv')\n",
    "ratings = pd.read_csv(r'data\\ratings.csv')\n",
    "tags = pd.read_csv(r'data\\tags.csv')"
   ]
  },
  {
   "cell_type": "markdown",
   "id": "c60a21d4-25cc-4a18-a29f-6f6f73501032",
   "metadata": {},
   "source": [
    "# ¿Que usuario ha dejado mas ratings?\n"
   ]
  },
  {
   "cell_type": "code",
   "execution_count": 4,
   "id": "6c8aac32-d395-4045-b3ad-afc820240d7d",
   "metadata": {},
   "outputs": [
    {
     "data": {
      "text/plain": [
       "userId\n",
       "414    2698\n",
       "Name: count, dtype: int64"
      ]
     },
     "execution_count": 4,
     "metadata": {},
     "output_type": "execute_result"
    }
   ],
   "source": [
    "ratings['userId'].value_counts().head(1)"
   ]
  },
  {
   "cell_type": "markdown",
   "id": "bdfcf875-cf30-4006-ba56-78c270337cb4",
   "metadata": {},
   "source": [
    "# ¿Cuál es el promedio de las ratings del usuario más activo?"
   ]
  },
  {
   "cell_type": "code",
   "execution_count": 5,
   "id": "c4fd0465-c2d2-48b5-83c7-f4123ae1f11e",
   "metadata": {},
   "outputs": [
    {
     "data": {
      "text/plain": [
       "np.float64(3.391957005189029)"
      ]
     },
     "execution_count": 5,
     "metadata": {},
     "output_type": "execute_result"
    }
   ],
   "source": [
    "ratings[ratings['userId'] == 414]['rating'].mean()"
   ]
  },
  {
   "cell_type": "markdown",
   "id": "e15cba7e-0bd1-49e7-8775-853cf589aeb0",
   "metadata": {},
   "source": [
    "# ¿Cuál es la película con mas tags y cuáles son sus tags?"
   ]
  },
  {
   "cell_type": "code",
   "execution_count": 28,
   "id": "fc59a722-9991-44e7-9db5-6fcb73e36c3c",
   "metadata": {},
   "outputs": [
    {
     "name": "stdout",
     "output_type": "stream",
     "text": [
      "257    Pulp Fiction (1994)\n",
      "Name: title, dtype: object ['good dialogue', 'great soundtrack', 'non-linear', 'cult film', 'drugs', 'Quentin Tarantino', 'Tarantino', 'hit men', '1990s', 'achronological', 'action', 'action packed', 'aggressive', 'amazing', 'amazing dialogues', 'anthology', 'assassin', 'atmospheric', 'AWESOME', 'bad ass', 'bad language', 'bad-ass', 'bible', 'biblical references', 'big boys with guns', 'big name actors', 'Black comedy', 'black humor', 'black humour', 'blood', 'blood splatters', 'bloody', 'bruce willis', 'brutality', 'casual violence', 'character development', 'characters', 'classic', 'classic movie', 'coke', 'comedy', 'conversation', 'cool', 'cool style', 'crime', 'crime scene scrubbing', 'cult', 'cult classic', 'cult film', 'dance', 'dancing', 'dark', 'dark comedy', 'dark humor', 'dialogue', 'different', 'diner', 'disjointed timeline', 'disturbing', 'drama', 'drug overdose', 'drugs', 'drugs & music', 'ensemble cast', 'entertaining', 'entirely dialogue', 'episodic', 'exciting', 'fast paced', 'fast-paced', 'film noir', 'film-noir', 'foul language', 'fun', 'funny', 'gangster', 'gangsters', 'genius', 'golden watch', 'good dialogue', 'good music', 'gore', 'great acting', 'great dialogue', 'great soundtrack', 'gritty', 'guns', 'Harvey Keitel', 'heroin', 'Highly quotable', 'hit men', 'hitman', 'homosexuality', 'humour', 'iconic', 'imdb top 250', 'innovative', 'intellectual', 'intelligent', 'intense', 'interesting', 'intertwining storylines', 'interwoven storylines', 'ironic', 'irony', 'John Travolta', 'killer-as-protagonist', 'los angeles', 'Mafia', 'masterpiece', 'meaningless violence', 'milkshake', 'mobster', 'mobsters', 'monologue', 'motherfucker', 'multiple stories', 'multiple storylines', 'neo-noir', 'noir', 'non-linear', 'non-linear timeline', 'nonlinear', 'nonlinear narrative', 'nonlinear storyline', 'nonlinear timeline', 'notable soundtrack', 'offensive', 'organised crime', 'organized crime', 'original', 'original plot', 'out of order', \"Palme d'Or\", 'parody', 'philosophical', 'pop culture references', 'psychological', 'pulp', 'Quentin Tarantino', 'quirky', 'Quotable', 'r:disturbing violent content including rape', 'r:disturbing violent images', 'r:graphic sexuality', 'r:some violence', 'r:strong bloody violence', 'r:strong language', 'r:sustained strong stylized violence', 'r:violence', 'random', 'rape', 'retro', 'Roger Avary', 'royal with cheese', 'Samuel L. Jackson', 'sarcasm', 'satire', 'sexy', 'smart writing', 'sophisticated', 'soundtrack', 'splatter', 'Steve Buscemi', 'storytelling', 'stylish', 'stylized', 'suspense', 'Tarantino', 'thought-provoking', 'thriller', 'travolta', 'twist ending', 'Uma Thurman', 'unique', 'unpredictable', 'unusual', 'very funny', 'violence', 'violent', 'witty']\n"
     ]
    }
   ],
   "source": [
    "counts = tags['movieId'].value_counts()\n",
    "\n",
    "movieId = counts.index[0]   # el movieId con mayor frecuencia\n",
    "freq    = counts.iloc[0]    # su frecuencia\n",
    "\n",
    "titulo = str(movies[movies['movieId'] == movieId]['title'])\n",
    "tags_ = list(tags[tags['movieId'] == movieId]['tag'])\n",
    "\n",
    "print(titulo, tags_)"
   ]
  },
  {
   "cell_type": "markdown",
   "id": "78865fb6-cb2d-4482-8ba6-7324b68027f1",
   "metadata": {},
   "source": [
    "# ¿De qué años hay menos películas en el dataset?"
   ]
  },
  {
   "cell_type": "code",
   "execution_count": 37,
   "id": "6120d4e6-edd0-470c-b732-933846e0ddc9",
   "metadata": {},
   "outputs": [
    {
     "name": "stdout",
     "output_type": "stream",
     "text": [
      "El año con menos películas es 1922 con 1 películas.\n"
     ]
    }
   ],
   "source": [
    "# Extraer el año de la columna 'title'\n",
    "movies['year'] = movies['title'].str.extract(r'\\((\\d{4})\\)')\n",
    "\n",
    "# Contar cuántas películas hay por año\n",
    "year_counts = movies['year'].value_counts()\n",
    "\n",
    "# Obtener el año con menos películas\n",
    "min_year = year_counts.idxmin()\n",
    "min_count = year_counts.min()\n",
    "\n",
    "print(f\"El año con menos películas es {min_year} con {min_count} películas.\")"
   ]
  }
 ],
 "metadata": {
  "kernelspec": {
   "display_name": "Python 3 (ipykernel)",
   "language": "python",
   "name": "python3"
  },
  "language_info": {
   "codemirror_mode": {
    "name": "ipython",
    "version": 3
   },
   "file_extension": ".py",
   "mimetype": "text/x-python",
   "name": "python",
   "nbconvert_exporter": "python",
   "pygments_lexer": "ipython3",
   "version": "3.12.4"
  }
 },
 "nbformat": 4,
 "nbformat_minor": 5
}

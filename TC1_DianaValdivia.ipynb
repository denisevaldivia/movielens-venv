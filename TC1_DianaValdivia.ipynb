{
 "cells": [
  {
   "cell_type": "code",
   "execution_count": 1,
   "id": "0317bc65",
   "metadata": {},
   "outputs": [],
   "source": [
    "import pandas as pd \n",
    "\n",
    "movies = pd.read_csv(r'data\\movies.csv')\n",
    "ratings = pd.read_csv(r'data\\ratings.csv')"
   ]
  },
  {
   "cell_type": "markdown",
   "id": "94b52491",
   "metadata": {},
   "source": [
    "# ¿Que usuario ha dejado mas ratings?"
   ]
  },
  {
   "cell_type": "code",
   "execution_count": 4,
   "id": "19a19159",
   "metadata": {},
   "outputs": [
    {
     "data": {
      "application/vnd.microsoft.datawrangler.viewer.v0+json": {
       "columns": [
        {
         "name": "userId",
         "rawType": "int64",
         "type": "integer"
        },
        {
         "name": "count",
         "rawType": "int64",
         "type": "integer"
        }
       ],
       "ref": "7aa7f17e-dc2a-45ac-a2d3-ff897c9d4a8e",
       "rows": [
        [
         "414",
         "2698"
        ]
       ],
       "shape": {
        "columns": 1,
        "rows": 1
       }
      },
      "text/plain": [
       "userId\n",
       "414    2698\n",
       "Name: count, dtype: int64"
      ]
     },
     "execution_count": 4,
     "metadata": {},
     "output_type": "execute_result"
    }
   ],
   "source": [
    "ratings['userId'].value_counts().head(1)"
   ]
  },
  {
   "cell_type": "markdown",
   "id": "bae279ca",
   "metadata": {},
   "source": [
    "# ¿Cuál es el promedio de las ratings del usuario más activo?"
   ]
  },
  {
   "cell_type": "code",
   "execution_count": 5,
   "id": "49fee035",
   "metadata": {},
   "outputs": [
    {
     "data": {
      "text/plain": [
       "np.float64(3.391957005189029)"
      ]
     },
     "execution_count": 5,
     "metadata": {},
     "output_type": "execute_result"
    }
   ],
   "source": [
    "ratings[ratings['userId'] == 414]['rating'].mean()"
   ]
  }
 ],
 "metadata": {
  "kernelspec": {
   "display_name": "venv",
   "language": "python",
   "name": "python3"
  },
  "language_info": {
   "codemirror_mode": {
    "name": "ipython",
    "version": 3
   },
   "file_extension": ".py",
   "mimetype": "text/x-python",
   "name": "python",
   "nbconvert_exporter": "python",
   "pygments_lexer": "ipython3",
   "version": "3.12.4"
  }
 },
 "nbformat": 4,
 "nbformat_minor": 5
}
